{
  "nbformat": 4,
  "nbformat_minor": 0,
  "metadata": {
    "colab": {
      "provenance": [],
      "authorship_tag": "ABX9TyNzzrV20hAV7L8YdsS9T3Ll",
      "include_colab_link": true
    },
    "kernelspec": {
      "name": "python3",
      "display_name": "Python 3"
    },
    "language_info": {
      "name": "python"
    }
  },
  "cells": [
    {
      "cell_type": "markdown",
      "metadata": {
        "id": "view-in-github",
        "colab_type": "text"
      },
      "source": [
        "<a href=\"https://colab.research.google.com/github/pah235/AdventureWorks-Sales-Report-with-Excel-and-BigQuery/blob/main/Untitled0.ipynb\" target=\"_parent\"><img src=\"https://colab.research.google.com/assets/colab-badge.svg\" alt=\"Open In Colab\"/></a>"
      ]
    },
    {
      "cell_type": "markdown",
      "source": [
        "1. Phân tích thông tin nhân khẩu học của bệnh nhân"
      ],
      "metadata": {
        "id": "-__Sv_cJrThL"
      }
    },
    {
      "cell_type": "code",
      "execution_count": null,
      "metadata": {
        "id": "xAXvuciwrQnd"
      },
      "outputs": [],
      "source": [
        "-- Phân phối theo nhóm tuổi\n",
        "SELECT age_group, COUNT(*) AS patients,\n",
        "        ROUND(100.0 * COUNT(*) / SUM(COUNT(*)) OVER(), 2) AS pct_of_total\n",
        "FROM v_healthcare_analysis\n",
        "GROUP BY  age_group\n",
        "ORDER BY patients DESC;\n",
        "\n",
        "\n",
        "-- Phân phối theo giới tính\n",
        "SELECT gender, COUNT(*) AS patients,\n",
        "ROUND(100.0 * COUNT(*) / SUM(COUNT(*)) OVER(),2) AS pct_of_total\n",
        "FROM v_healthcare_analysis\n",
        "GROUP BY gender\n",
        "ORDER BY patients DESC;\n",
        "\n",
        "-- Phân phối theo nhóm máu\n",
        "SELECT blood_type, COUNT(*) AS patients,\n",
        "       ROUND(100.0 * COUNT(*) / SUM(COUNT(*)) OVER(),2) AS pct_of_total\n",
        "FROM v_healthcare_analysis\n",
        "GROUP BY blood_type\n",
        "ORDER BY patients DESC;"
      ]
    },
    {
      "cell_type": "markdown",
      "source": [
        "Trong cơ cấu bệnh nhân theo nhóm tuổi, nhóm bệnh nhân 18-44 tuổi chiếm tỷ trọng cao nhất với 21,821 bệnh nhân (chiếm 39.32%).\n",
        "Trong cơ cấu bệnh nhân theo giới tính, nhóm bệnh nhân giới tính nữ chiếm tỷ trọng cao nhất với 27,750 bệnh nhân (chiếm 50%).\n",
        "Trong cơ cấu bệnh nhân theo nhóm máu, nhóm bệnh nhân có nhóm máu A+ chiếm tỷ trọng cao nhất với 19,425 bệnh nhân (chiếm 35%)."
      ],
      "metadata": {
        "id": "c15Q6aqyrybg"
      }
    },
    {
      "cell_type": "code",
      "source": [],
      "metadata": {
        "id": "EAS_Oh-8X8rL"
      },
      "execution_count": null,
      "outputs": []
    },
    {
      "cell_type": "code",
      "source": [],
      "metadata": {
        "id": "uTU8v-tnX2mg"
      },
      "execution_count": null,
      "outputs": []
    }
  ]
}